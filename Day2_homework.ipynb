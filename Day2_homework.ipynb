{
  "nbformat": 4,
  "nbformat_minor": 0,
  "metadata": {
    "colab": {
      "name": "Day2_homework.ipynb",
      "provenance": [],
      "authorship_tag": "ABX9TyOi49ooBISh1jRx27wglVCW",
      "include_colab_link": true
    },
    "kernelspec": {
      "name": "python3",
      "display_name": "Python 3"
    },
    "language_info": {
      "name": "python"
    }
  },
  "cells": [
    {
      "cell_type": "markdown",
      "metadata": {
        "id": "view-in-github",
        "colab_type": "text"
      },
      "source": [
        "<a href=\"https://colab.research.google.com/github/Kim-Min-Jong/Python_Advanced_Programming/blob/main/Day2_homework.ipynb\" target=\"_parent\"><img src=\"https://colab.research.google.com/assets/colab-badge.svg\" alt=\"Open In Colab\"/></a>"
      ]
    },
    {
      "cell_type": "code",
      "source": [
        "# 문제 1\n",
        "n = int(input())\n",
        "for a in range(1, n+1):\n",
        "  for b in range(1, n+1):\n",
        "     c = n - a - b\n",
        "     if a <= b <= c and a**2 + b**2 == c**2:\n",
        "       print(a*b*c)"
      ],
      "metadata": {
        "colab": {
          "base_uri": "https://localhost:8080/"
        },
        "id": "b7dU7yTcjCI1",
        "outputId": "faceba72-c5b7-4daf-90ed-70d259e1a262"
      },
      "execution_count": null,
      "outputs": [
        {
          "output_type": "stream",
          "name": "stdout",
          "text": [
            "1000\n",
            "31875000\n"
          ]
        }
      ]
    },
    {
      "cell_type": "code",
      "source": [
        "# 문제 2\n",
        "from sympy import *\n",
        "\n",
        "n = int(input())\n",
        "\n",
        "for i in range(n, 1, -1):\n",
        "  if isprime(i):\n",
        "    print(i)\n",
        "    break"
      ],
      "metadata": {
        "colab": {
          "base_uri": "https://localhost:8080/"
        },
        "id": "X2f82tOKkV11",
        "outputId": "fb90e64e-d7c5-487b-8b50-c1823370091b"
      },
      "execution_count": null,
      "outputs": [
        {
          "output_type": "stream",
          "name": "stdout",
          "text": [
            "99258236\n",
            "99258221\n"
          ]
        }
      ]
    },
    {
      "cell_type": "code",
      "source": [
        "reports = []\n",
        "dic = {}\n",
        "num = 0\n",
        "cnt = 0\n",
        "ll = list(map(int,input().split()))\n",
        "for _ in range(ll[1]):\n",
        "  reports.append(input())\n",
        "\n",
        "# key point 결국 적끼리는 모두 같은 편, 친구끼리는 모두 같은편이니\n",
        "# 4가지 조건을 2가지로 줄여서 생각 (적의 입장, 친구의 입장)\n",
        "\n",
        "# 보고건을 순회 \n",
        "for report in reports:\n",
        "    # 보고건을 나눠서 보기 시작 - 문자열 split()\n",
        "    a, b, x = report.split()  \n",
        "    cnt += 1\n",
        "    # 관계가 f라면 1로 친구 표시\n",
        "    if x == \"f\":\n",
        "      fOre = 1  \n",
        "    else: # 아니면 -1로 표시\n",
        "      fOre = -1  \n",
        "    # 딕셔너리에 각 정치인 정보 저장  -- 기준은 먼저 입력된 a -- 추후 b와 비교\n",
        "    # 딕셔너리의 키 값은 유일하므로 인원이 들어오고 같은 인원 입력 관계만 검증하면됨\n",
        "    # 첫 입력은 아직 기준이 없으니 기준으로 친구관계(1) 저장\n",
        "    if a not in dic:\n",
        "      dic[a] = 1  \n",
        "    if b not in dic: \n",
        "      dic[b] = fOre * dic[a] \n",
        "    # 각 줄마다 순회하면서 줄마다 a, b 관계를 살핌\n",
        "    # 단 여기서 관계가 다르다면 잘못 보고 한 것 - 위치 찾고 탈출\n",
        "    if dic[b] != fOre * dic[a]:\n",
        "        num = cnt \n",
        "        break\n",
        "if num != 0:\n",
        "  print(num)\n",
        "else:\n",
        "  print(\"THE SPY IS LOYAL\")  "
      ],
      "metadata": {
        "colab": {
          "base_uri": "https://localhost:8080/"
        },
        "id": "b-t7mTU1lgxr",
        "outputId": "e4049051-57ea-49f7-aafc-802e1b4b6774"
      },
      "execution_count": null,
      "outputs": [
        {
          "output_type": "stream",
          "name": "stdout",
          "text": [
            "5 7\n",
            "1 2 f\n",
            "3 4 e\n",
            "4 5 f\n",
            "2 4 e\n",
            "1 3 e\n",
            "1 4 e\n",
            "5 3 e\n",
            "5\n"
          ]
        }
      ]
    }
  ]
}