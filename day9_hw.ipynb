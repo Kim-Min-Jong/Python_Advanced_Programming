{
  "nbformat": 4,
  "nbformat_minor": 0,
  "metadata": {
    "colab": {
      "name": "day9_hw.ipynb",
      "provenance": [],
      "collapsed_sections": [],
      "authorship_tag": "ABX9TyOZhajBPi8Cby+4ObSZHmJy"
    },
    "kernelspec": {
      "name": "python3",
      "display_name": "Python 3"
    },
    "language_info": {
      "name": "python"
    }
  },
  "cells": [
    {
      "cell_type": "code",
      "execution_count": null,
      "metadata": {
        "id": "t9ddz8L5mrAS"
      },
      "outputs": [],
      "source": [
        "import tensorflow as tf\n",
        "import numpy as np\n",
        "import pandas as pd\n",
        "import sklearn as sk\n",
        "import random\n",
        "import sys\n",
        "import keras.preprocessing\n",
        "import matplotlib.pyplot as plt\n",
        "from tensorflow.keras.datasets import mnist\n",
        "from keras.models import Sequential\n",
        "from tensorflow import keras\n",
        "from keras.layers import Dense,Flatten,Dropout\n",
        "from keras.layers.convolutional import Conv2D,MaxPooling2D\n",
        "from tensorflow.keras.utils import to_categorical"
      ]
    },
    {
      "cell_type": "code",
      "source": [
        "(X_train,y_train),(X_test,y_test) = mnist.load_data()\n",
        "\n",
        "print(X_train.shape)\n",
        "print(y_train.shape)\n",
        "print(X_test.shape)\n",
        "print(y_test.shape)"
      ],
      "metadata": {
        "colab": {
          "base_uri": "https://localhost:8080/"
        },
        "id": "nQLb6z9uq-1d",
        "outputId": "7a14d03e-9fa7-4e01-be8c-498655136d28"
      },
      "execution_count": null,
      "outputs": [
        {
          "output_type": "stream",
          "name": "stdout",
          "text": [
            "(60000, 28, 28)\n",
            "(60000,)\n",
            "(10000, 28, 28)\n",
            "(10000,)\n"
          ]
        }
      ]
    },
    {
      "cell_type": "code",
      "source": [
        "# 전처리\n",
        "\n",
        "min_value = np.min(X_train)\n",
        "max_value = np.max(X_train)\n",
        "\n",
        "X_train = (X_train - min_value) / (max_value - min_value)\n",
        "\n",
        "min_valuey = np.min(y_train)\n",
        "max_valuey= np.max(y_train)\n",
        "\n",
        "X_train = (y_train - min_valuey) / (max_valuey - min_value)\n",
        "\n",
        "y_train = to_categorical(y_train,10)\n",
        "y_test = to_categorical(y_test,10)"
      ],
      "metadata": {
        "id": "GkEX8TlTrKT8"
      },
      "execution_count": null,
      "outputs": []
    },
    {
      "cell_type": "code",
      "source": [
        "# 모델 생성\n",
        "model = Sequential()\n",
        "model.add(Conv2D(filters = 32, kernel_size=(3,3),strides=(1,1),padding='Same', activation = 'relu', input_shape = (28, 28, 1)))\n",
        "model.add(MaxPooling2D(pool_size=(2,2)))\n",
        "model.add(Conv2D(filters = 16, kernel_size=(3,3),strides=(1,1),padding='Same', activation = 'relu'))\n",
        "model.add(MaxPooling2D(pool_size=(2,2)))\n",
        "model.add(Conv2D(filters = 8, kernel_size=(3,3),strides=(1,1),padding='Same', activation = 'relu'))\n",
        "model.add(MaxPooling2D(pool_size=(2,2)))\n",
        "\n",
        "model.add(Flatten())\n",
        "model.add(Dense(64, activation = 'relu'))\n",
        "model.add(Dense(32, activation = 'relu'))\n",
        "model.add(Dense(16, activation = 'relu'))\n",
        "model.add(Dropout(0.1))\n",
        "model.add(Dense(10, activation = 'softmax'))"
      ],
      "metadata": {
        "id": "cMRg4lmXvNfp"
      },
      "execution_count": null,
      "outputs": []
    },
    {
      "cell_type": "code",
      "source": [
        "# 컴파일\n",
        "model.compile(loss='categorical_crossentropy',optimizer='adam',metrics=['mae'])"
      ],
      "metadata": {
        "id": "YLjNlf0IveDY"
      },
      "execution_count": null,
      "outputs": []
    },
    {
      "cell_type": "code",
      "source": [
        "# 학습\n",
        "hist = model.fit(X_train,y_train,epochs = 5 , batch_size=50,verbose=2,validation_split=0.1)"
      ],
      "metadata": {
        "colab": {
          "base_uri": "https://localhost:8080/"
        },
        "id": "Up_9cnqvvfc_",
        "outputId": "0db7e761-cf14-42be-8a14-6ff54191cc6a"
      },
      "execution_count": null,
      "outputs": [
        {
          "output_type": "stream",
          "name": "stdout",
          "text": [
            "Epoch 1/5\n",
            "1080/1080 - 88s - loss: 0.4013 - mae: 0.0376 - val_loss: 0.0828 - val_mae: 0.0074 - 88s/epoch - 82ms/step\n",
            "Epoch 2/5\n",
            "1080/1080 - 81s - loss: 0.1213 - mae: 0.0114 - val_loss: 0.0682 - val_mae: 0.0052 - 81s/epoch - 75ms/step\n",
            "Epoch 3/5\n",
            "1080/1080 - 82s - loss: 0.0773 - mae: 0.0071 - val_loss: 0.0588 - val_mae: 0.0045 - 82s/epoch - 76ms/step\n",
            "Epoch 4/5\n",
            "1080/1080 - 80s - loss: 0.0589 - mae: 0.0055 - val_loss: 0.0569 - val_mae: 0.0040 - 80s/epoch - 74ms/step\n",
            "Epoch 5/5\n",
            "1080/1080 - 79s - loss: 0.0460 - mae: 0.0043 - val_loss: 0.0415 - val_mae: 0.0027 - 79s/epoch - 74ms/step\n"
          ]
        }
      ]
    },
    {
      "cell_type": "code",
      "source": [
        "locc,acc = model.evaluate(X_test,y_test)"
      ],
      "metadata": {
        "colab": {
          "base_uri": "https://localhost:8080/"
        },
        "id": "o78bkSOfx4FR",
        "outputId": "00e3361a-b74a-418f-b7bc-92f690da9dfe"
      },
      "execution_count": null,
      "outputs": [
        {
          "output_type": "stream",
          "name": "stdout",
          "text": [
            "313/313 [==============================] - 4s 14ms/step - loss: 0.0383 - mae: 0.0030\n"
          ]
        }
      ]
    },
    {
      "cell_type": "code",
      "source": [
        "plt.plot(hist.history['loss'], label='loss')\n",
        "plt.plot(hist.history['val_loss'], label='val_loss')\n",
        "plt.xlabel('epoch')\n",
        "plt.legend()\n",
        "plt.show()"
      ],
      "metadata": {
        "colab": {
          "base_uri": "https://localhost:8080/",
          "height": 279
        },
        "id": "USm-xdogxs16",
        "outputId": "cb1c4260-f604-48c9-a1d6-dd93166f0b95"
      },
      "execution_count": null,
      "outputs": [
        {
          "output_type": "display_data",
          "data": {
            "text/plain": [
              "<Figure size 432x288 with 1 Axes>"
            ],
            "image/png": "[encoded data removed]"
          },
          "metadata": {
            "needs_background": "light"
          }
        }
      ]
    },
    {
      "cell_type": "code",
      "source": [
        "from sklearn.metrics import confusion_matrix, plot_confusion_matrix\n",
        "from matplotlib import cm\n",
        "predict = model.predict(X_test)\n",
        "class_names = ['T-shirt/top', 'Trouser', 'Pullover', 'Dress', 'Coat','Sandal', 'Shirt', 'Sneaker', 'Bag', 'Ankle boot']\n"
      ],
      "metadata": {
        "id": "p6UHvD1L5Clz"
      },
      "execution_count": null,
      "outputs": []
    },
    {
      "cell_type": "code",
      "source": [
        "predict_list = []\n",
        "for i in predict:\n",
        "  idx = max(i)\n",
        "  predict_list.append(list(i).index(idx))\n",
        "\n",
        "cm = confusion_matrix(y_test, predict_list)\n",
        "print(cm)"
      ],
      "metadata": {
        "colab": {
          "base_uri": "https://localhost:8080/"
        },
        "id": "_xQ5vh419Xnb",
        "outputId": "874198a4-9b85-4d18-9509-fb77f70164f5"
      },
      "execution_count": null,
      "outputs": [
        {
          "output_type": "stream",
          "name": "stdout",
          "text": [
            "[[ 977    0    0    0    0    0    1    1    1    0]\n",
            " [   0 1132    2    0    0    0    0    0    1    0]\n",
            " [   5    2 1017    0    2    0    0    5    1    0]\n",
            " [   1    1    7  984    0    5    0    3    7    2]\n",
            " [   0    0    0    0  976    0    1    1    2    2]\n",
            " [   2    1    1    4    0  870    8    1    2    3]\n",
            " [  13    4    0    0    1    0  940    0    0    0]\n",
            " [   0    1   10    0    3    0    0 1011    0    3]\n",
            " [   4    0    5    0    3    0    0    1  959    2]\n",
            " [   2    1    0    1    5    2    0    3    7  988]]\n"
          ]
        }
      ]
    },
    {
      "cell_type": "code",
      "source": [
        "import seaborn as sns\n",
        "df = pd.DataFrame(cm,index=class_names, columns=class_names)\n",
        "sns.heatmap(df, annot=True,fmt='d',cbar=True,linewidths=0.5,cmap='Blues')"
      ],
      "metadata": {
        "colab": {
          "base_uri": "https://localhost:8080/",
          "height": 327
        },
        "id": "dOqPXovfAksR",
        "outputId": "bd0c00aa-7bdd-4f6a-8c73-ab02c958ee90"
      },
      "execution_count": null,
      "outputs": [
        {
          "output_type": "execute_result",
          "data": {
            "text/plain": [
              "<matplotlib.axes._subplots.AxesSubplot at 0x7fee1ef7ce50>"
            ]
          },
          "metadata": {},
          "execution_count": 80
        },
        {
          "output_type": "display_data",
          "data": {
            "text/plain": [
              "<Figure size 432x288 with 2 Axes>"
            ],
            "image/png": "[encoded data removed]"
          },
          "metadata": {
            "needs_background": "light"
          }
        }
      ]
    }
  ]
}