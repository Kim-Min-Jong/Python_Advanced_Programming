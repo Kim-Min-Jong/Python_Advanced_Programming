{
  "nbformat": 4,
  "nbformat_minor": 0,
  "metadata": {
    "colab": {
      "name": "Day1_homework.ipynb",
      "provenance": [],
      "authorship_tag": "ABX9TyOXldwjnLBk9DV7xZktESUP",
      "include_colab_link": true
    },
    "kernelspec": {
      "name": "python3",
      "display_name": "Python 3"
    },
    "language_info": {
      "name": "python"
    }
  },
  "cells": [
    {
      "cell_type": "markdown",
      "metadata": {
        "id": "view-in-github",
        "colab_type": "text"
      },
      "source": [
        "<a href=\"https://colab.research.google.com/github/Kim-Min-Jong/Python_Advanced_Programming/blob/main/Day1_homework.ipynb\" target=\"_parent\"><img src=\"https://colab.research.google.com/assets/colab-badge.svg\" alt=\"Open In Colab\"/></a>"
      ]
    },
    {
      "cell_type": "code",
      "execution_count": 20,
      "metadata": {
        "colab": {
          "base_uri": "https://localhost:8080/"
        },
        "id": "tm2YGmqRZUCP",
        "outputId": "cca20203-7398-4834-f5da-9f067f9912e6"
      },
      "outputs": [
        {
          "output_type": "stream",
          "name": "stdout",
          "text": [
            "1000\n",
            "233168\n"
          ]
        }
      ],
      "source": [
        "# 문제 1\n",
        "num = int(input())\n",
        "Sum = 0\n",
        "\n",
        "for i in range(1,num):\n",
        "  if num <= 1000:\n",
        "    if i % 3 == 0 or i % 5 == 0:\n",
        "      Sum += i\n",
        "    elif i % 15 == 0:\n",
        "      Sum -= i\n",
        "print(Sum)"
      ]
    },
    {
      "cell_type": "code",
      "source": [
        "# 문제 2\n",
        "num1 = 0\n",
        "num2 = 1\n",
        "result = 0 \n",
        "while True:\n",
        "  Sum = num1 + num2\n",
        "  num1 = num2\n",
        "  num2 = Sum\n",
        "  if Sum > 1000000:\n",
        "    break\n",
        "  if Sum % 2 == 0:\n",
        "    result += Sum\n",
        "print(result)"
      ],
      "metadata": {
        "colab": {
          "base_uri": "https://localhost:8080/"
        },
        "id": "8VMMWegeaX7y",
        "outputId": "bb66e430-fdca-4e3a-cfcf-57f0821de3b2"
      },
      "execution_count": 19,
      "outputs": [
        {
          "output_type": "stream",
          "name": "stdout",
          "text": [
            "1089154\n"
          ]
        }
      ]
    }
  ]
}