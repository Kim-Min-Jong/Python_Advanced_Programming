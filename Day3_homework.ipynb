{
  "nbformat": 4,
  "nbformat_minor": 0,
  "metadata": {
    "colab": {
      "name": "Day3_homework.ipynb",
      "provenance": [],
      "collapsed_sections": [],
      "authorship_tag": "ABX9TyMZrqlDrjiCNqgB7REAy0sT",
      "include_colab_link": true
    },
    "kernelspec": {
      "name": "python3",
      "display_name": "Python 3"
    },
    "language_info": {
      "name": "python"
    }
  },
  "cells": [
    {
      "cell_type": "markdown",
      "metadata": {
        "id": "view-in-github",
        "colab_type": "text"
      },
      "source": [
        "<a href=\"https://colab.research.google.com/github/Kim-Min-Jong/Python_Advanced_Programming/blob/main/Day3_homework.ipynb\" target=\"_parent\"><img src=\"https://colab.research.google.com/assets/colab-badge.svg\" alt=\"Open In Colab\"/></a>"
      ]
    },
    {
      "cell_type": "code",
      "source": [
        "import sys\n",
        "\n",
        "INF = sys.maxsize\n",
        "\n",
        "def floyd_washall():\n",
        "    dist = [[INF] * n for i in range(n)]\n",
        "    cnt = 0\n",
        "    for i in range(n):\n",
        "        for j in range(n):\n",
        "            dist[i][j] = init[i][j]\n",
        "            if init[i][j] == 1:\n",
        "                cnt += 1\n",
        "\n",
        "    for a in range(n): # 경유\n",
        "        for b in range(n): # 시작점\n",
        "            for c in range(n): # 끝점\n",
        "                # 경유를 거쳤을 때 짧은 경로\n",
        "                if dist[b][c] > dist[b][a] + dist[a][c]:\n",
        "                    dist[b][c] = dist[b][a] + dist[a][c]\n",
        "\n",
        "    return dist, cnt"
      ],
      "metadata": {
        "id": "jRdC6LlK2j3N"
      },
      "execution_count": null,
      "outputs": []
    },
    {
      "cell_type": "code",
      "execution_count": null,
      "metadata": {
        "colab": {
          "base_uri": "https://localhost:8080/"
        },
        "id": "leLL8CILQqdd",
        "outputId": "08f1c81f-f707-4d9a-bda2-9eb2b1b4015e"
      },
      "outputs": [
        {
          "output_type": "stream",
          "name": "stdout",
          "text": [
            "0 1 2 2 2 2 3 3 3 3 \n",
            "1 0 1 1 1 1 2 2 2 2 \n",
            "2 1 0 1 2 1 1 2 3 2 \n",
            "2 1 1 0 1 2 2 1 2 3 \n",
            "2 1 2 1 0 1 3 2 1 2 \n",
            "2 1 1 2 1 0 2 3 2 1 \n",
            "3 2 1 2 3 2 0 3 4 3 \n",
            "3 2 2 1 2 3 3 0 3 4 \n",
            "3 2 3 2 1 2 4 3 0 3 \n",
            "3 2 2 3 2 1 3 4 3 0 \n",
            "relation cnt:  13.0\n",
            "\n",
            "TPL: 186\n",
            "APL: 2.066666666666667\n",
            "PLD: 0.158974358974359\n"
          ]
        }
      ],
      "source": [
        "from path_length_module import floyd_washall\n",
        "import numpy as np\n",
        "result = floyd_washall()\n",
        "dist = result[0]\n",
        "relation = result[1] / 2\n",
        "\n",
        "for i in range(len(dist)):\n",
        "    for j in range(len(dist)):\n",
        "        print(dist[i][j], end=' ')\n",
        "    print()\n",
        "print(\"relation cnt: \", relation)\n",
        "\n",
        "TPL = np.array(dist).flatten().sum()\n",
        "APL = TPL / 90  #(10^2 - 10)\n",
        "PLD = APL / relation\n",
        "print()\n",
        "print(\"TPL:\", TPL)\n",
        "print(\"APL:\", APL)\n",
        "print(\"PLD:\", PLD)"
      ]
    },
    {
      "cell_type": "code",
      "source": [
        ""
      ],
      "metadata": {
        "id": "jQkuYd4NwDUC"
      },
      "execution_count": null,
      "outputs": []
    }
  ]
}